{
 "cells": [
  {
   "cell_type": "markdown",
   "metadata": {},
   "source": [
    "here we need to install the library we need"
   ]
  },
  {
   "cell_type": "code",
   "execution_count": 2,
   "metadata": {
    "execution": {
     "iopub.execute_input": "2025-06-03T18:52:54.176748Z",
     "iopub.status.busy": "2025-06-03T18:52:54.176501Z",
     "iopub.status.idle": "2025-06-03T18:52:59.331522Z",
     "shell.execute_reply": "2025-06-03T18:52:59.330726Z",
     "shell.execute_reply.started": "2025-06-03T18:52:54.176729Z"
    },
    "id": "lJLIhwxFJ40x",
    "trusted": true
   },
   "outputs": [],
   "source": [
    "%%capture\n",
    "!pip install torch-geometric"
   ]
  },
  {
   "cell_type": "code",
   "execution_count": 3,
   "metadata": {
    "execution": {
     "iopub.execute_input": "2025-06-03T18:54:09.033116Z",
     "iopub.status.busy": "2025-06-03T18:54:09.032316Z",
     "iopub.status.idle": "2025-06-03T18:54:09.037319Z",
     "shell.execute_reply": "2025-06-03T18:54:09.036554Z",
     "shell.execute_reply.started": "2025-06-03T18:54:09.033084Z"
    },
    "id": "ocZChACRKdsl",
    "trusted": true
   },
   "outputs": [],
   "source": [
    "import warnings\n",
    "warnings.filterwarnings(\"ignore\", category=UserWarning, module=\"torch_geometric.data.in_memory_dataset\")"
   ]
  },
  {
   "cell_type": "markdown",
   "metadata": {
    "id": "DSs6TJydJ40y"
   },
   "source": [
    "#### Graph data representations in PyG\n",
    "Given a *sparse* **Graph** $\\mathcal{G}=(\\mathbf{X}, (\\mathbf{I}, \\mathbf{E}))$ with **node features** $\\mathbf{X} \\in \\mathbb{R}^{|V| \\times F}$, **edge indices $\\mathbf{I} \\in \\{1, \\cdots, N\\}^{2 \\times |\\mathcal{E}|}$**, (optional) **edge features** $\\mathbf{E} \\in \\mathbb{R}^{|\\mathcal{E} \\times D|}$, it is described by an instance of class `torch_geometric.data.Data`, which holds the corresponding attributes.\n",
    "\n",
    "We show a simple example of an unweighted and directed graph with four nodes and three edges.\n",
    "\n",
    "<p align=\"center\"><img width=\"20%\" src=\"figures/graph_data.png\"></p>"
   ]
  },
  {
   "cell_type": "code",
   "execution_count": 4,
   "metadata": {
    "colab": {
     "base_uri": "https://localhost:8080/"
    },
    "execution": {
     "iopub.execute_input": "2025-06-03T18:54:13.498257Z",
     "iopub.status.busy": "2025-06-03T18:54:13.497987Z",
     "iopub.status.idle": "2025-06-03T18:54:24.068880Z",
     "shell.execute_reply": "2025-06-03T18:54:24.068269Z",
     "shell.execute_reply.started": "2025-06-03T18:54:13.498238Z"
    },
    "id": "ocoEw2uJJ40y",
    "outputId": "107c6336-53f6-42bc-fdbb-92ff462fb0c2",
    "trusted": true
   },
   "outputs": [
    {
     "data": {
      "text/plain": [
       "Data(x=[4, 1], edge_index=[2, 3])"
      ]
     },
     "execution_count": 4,
     "metadata": {},
     "output_type": "execute_result"
    }
   ],
   "source": [
    "# An example of creating a graph with 4 nodes and 3 edges in PyTorch Geometric\n",
    "\n",
    "import torch\n",
    "from torch_geometric.data import Data\n",
    "\n",
    "# Define edge_index in COO format [2, num_edges]\n",
    "edge_index = torch.tensor([\n",
    "    [1, 2, 3],  # source nodes (x2, x3, x4)\n",
    "    [0, 0, 0]   # target node (x1)\n",
    "], dtype=torch.long)\n",
    "\n",
    "# Define node features (here we use dummy features, e.g., 1 features per node)\n",
    "x = torch.tensor([\n",
    "    [1],  # x1\n",
    "    [1],  # x2\n",
    "    [1],  # x3\n",
    "    [1],  # x4\n",
    "], dtype=torch.float)\n",
    "\n",
    "# Create the graph data object\n",
    "data = Data(x=x, edge_index=edge_index)\n",
    "data"
   ]
  },
  {
   "cell_type": "markdown",
   "metadata": {
    "id": "_VZSyeK-J40z"
   },
   "source": [
    "#### Abstract Message Passing Scheme in PyG\n",
    "\n",
    "PyTorch Geometric provides the `torch_geometric.nn.MessagePassing` base class, which helps in creating such kinds of message passing graph neural networks by automatically taking care of message propagation. The implementation is decoupled into **UPDATE**, **AGGREGATION**, **MESSAGE** functions as:\n",
    "$$\n",
    "    \\mathbf{x}_i^{(k)} = \\mathrm{UPDATE} \\left( \\mathbf{x}_i, , \\mathrm{AGGR}_{j \\in \\mathcal{N}(i)} \\, \\mathrm{MESSAGE}^{(k)}\\left(\\mathbf{x}_i^{(k-1)}, \\mathbf{x}_j^{(k-1)},\\mathbf{e}_{i,j}\\right) \\right)    \n",
    "$$\n",
    "\n",
    "<p align=\"center\"><img width=\"35%\" src=\"figures/message_passing.png\"></p>"
   ]
  },
  {
   "cell_type": "markdown",
   "metadata": {
    "id": "DtmjhAaaJ40z"
   },
   "source": [
    "#### Implementing the GCN layer (lecture)\n",
    "\n",
    "The graph convolutional operator introduced by Kipf & Welling (ICLR 2017) is defined as\n",
    "$$\n",
    "        \\mathbf{X}^{k} = \\mathbf{\\hat{D}}^{-1/2} \\mathbf{\\hat{A}}\n",
    "        \\mathbf{\\hat{D}}^{-1/2} \\mathbf{X}^{k-1} \\mathbf{\\Theta},\n",
    "$$\n",
    "where $\\mathbf{\\hat{A}} = \\mathbf{A} + \\mathbf{I}$ denotes the adjacency matrix with inserted self-loops and\n",
    "$\\hat{D}_{ii} = \\sum_{j=0} \\hat{A}_{ij}$ its diagonal degree matrix. It is equivalent as:\n",
    "$$\n",
    "\\mathbf{x}_i^{(k)} = \\sum_{j \\in \\mathcal{N}(i) \\cup \\{ i \\}} \\frac{1}{\\sqrt{\\deg(i)} \\cdot \\sqrt{deg(j)}} \\cdot \\left( \\mathbf{x}_j^{(k-1)}\\mathbf{\\Theta} \\right),\n",
    "$$\n",
    "\n",
    "where neighboring node features are first transformed by a weight matrix $\\mathbf{\\Theta}$, normalized by their degree, and finally summed up.\n",
    "This formula can be divided into the following steps:\n",
    "\n",
    "1. Add self-loops to the adjacency matrix.\n",
    "2. Linearly transform node feature matrix.\n",
    "3. Normalize node features.\n",
    "4. Sum up neighboring node features.\n",
    "5. Return new node embeddings."
   ]
  },
  {
   "cell_type": "code",
   "execution_count": 5,
   "metadata": {
    "execution": {
     "iopub.execute_input": "2025-06-03T18:54:24.070576Z",
     "iopub.status.busy": "2025-06-03T18:54:24.070067Z",
     "iopub.status.idle": "2025-06-03T18:54:24.080002Z",
     "shell.execute_reply": "2025-06-03T18:54:24.079268Z",
     "shell.execute_reply.started": "2025-06-03T18:54:24.070555Z"
    },
    "id": "8uJ-TSWcJ40z",
    "trusted": true
   },
   "outputs": [],
   "source": [
    "import torch\n",
    "from torch_geometric.nn import MessagePassing\n",
    "import math\n",
    "\n",
    "def glorot(tensor):\n",
    "    if tensor is not None:\n",
    "        stdv = math.sqrt(6.0 / (tensor.size(-2) + tensor.size(-1)))\n",
    "        tensor.data.uniform_(-stdv, stdv)\n",
    "\n",
    "\n",
    "def zeros(tensor):\n",
    "    if tensor is not None:\n",
    "        tensor.data.fill_(0)\n",
    "\n",
    "\n",
    "def add_self_loops(edge_index, num_nodes=None):\n",
    "    loop_index = torch.arange(0, num_nodes, dtype=torch.long,\n",
    "                              device=edge_index.device)\n",
    "    loop_index = loop_index.unsqueeze(0).repeat(2, 1)\n",
    "\n",
    "    edge_index = torch.cat([edge_index, loop_index], dim=1)\n",
    "\n",
    "    return edge_index\n",
    "\n",
    "\n",
    "def degree(index, num_nodes=None, dtype=None):\n",
    "    out = torch.zeros((num_nodes), dtype=dtype, device=index.device)\n",
    "    return out.scatter_add_(0, index, out.new_ones((index.size(0))))\n",
    "\n",
    "\n",
    "class GCNConv(MessagePassing):\n",
    "    def __init__(self, in_channels, out_channels):\n",
    "        super(GCNConv, self).__init__(aggr='add')  # \"Add\" aggregation.\n",
    "        self.lin = torch.nn.Linear(in_channels, out_channels)\n",
    "\n",
    "        self.reset_parameters()\n",
    "\n",
    "    def reset_parameters(self):\n",
    "        glorot(self.lin.weight)\n",
    "        zeros(self.lin.bias)\n",
    "\n",
    "    def forward(self, x, edge_index):\n",
    "        # x has shape [N, in_channels]\n",
    "        # edge_index has shape [2, E]\n",
    "\n",
    "        # Step 1: Add self-loops to the adjacency matrix.\n",
    "        edge_index = add_self_loops(edge_index, num_nodes=x.size(0))\n",
    "\n",
    "        # Step 2: Linearly transform node feature matrix.\n",
    "        x = self.lin(x)\n",
    "\n",
    "        # Compute normalization\n",
    "        row, col = edge_index\n",
    "        deg = degree(row, x.size(0), dtype=x.dtype)\n",
    "        deg_inv_sqrt = deg.pow(-0.5)\n",
    "        deg_inv_sqrt[deg_inv_sqrt == float('inf')] = 0\n",
    "        self.norm = deg_inv_sqrt[row] * deg_inv_sqrt[col]\n",
    "\n",
    "        return self.propagate(edge_index, x=x, norm=self.norm)\n",
    "\n",
    "    def message(self, x_j, norm):\n",
    "        # x_j has shape [E, out_channels]\n",
    "        \n",
    "        # Step 3: Normalize node features.\n",
    "        return norm.view(-1, 1) * x_j\n",
    "\n",
    "    def update(self, aggr_out):\n",
    "        # aggr_out has shape [N, out_channels]\n",
    "\n",
    "        # Step 5: Return new node embeddings.\n",
    "        return aggr_out"
   ]
  },
  {
   "cell_type": "markdown",
   "metadata": {
    "id": "qGaeZ4i_J40z"
   },
   "source": [
    "#### Implementing GraphSAGE (lab)\n",
    "\n",
    "The algorithm of GraphSAGE (*Inductive Representation Learning on Large Graphs (NIPS 2017)*) embedding generation is described as:\n",
    "\n",
    "<p align=\"center\"><img width=\"45%\" src=\"figures/graphsage.png\"></p>\n",
    "\n",
    "You are required to implement this algortihm with **MEAN/SUM/MAX** AGGREGATE."
   ]
  },
  {
   "cell_type": "code",
   "execution_count": 15,
   "metadata": {
    "execution": {
     "iopub.execute_input": "2025-06-03T18:58:31.733213Z",
     "iopub.status.busy": "2025-06-03T18:58:31.732752Z",
     "iopub.status.idle": "2025-06-03T18:58:31.744007Z",
     "shell.execute_reply": "2025-06-03T18:58:31.743257Z",
     "shell.execute_reply.started": "2025-06-03T18:58:31.733179Z"
    },
    "id": "e7uyZeVsJ400",
    "trusted": true
   },
   "outputs": [],
   "source": [
    "import torch\n",
    "import torch.nn.functional as F\n",
    "from torch.nn import Parameter\n",
    "from torch_geometric.nn.conv import MessagePassing\n",
    "import math\n",
    "\n",
    "def uniform(size, tensor):\n",
    "    bound = 1.0 / math.sqrt(size)\n",
    "    if tensor is not None:\n",
    "        tensor.data.uniform_(-bound, bound)\n",
    "\n",
    "\n",
    "class SAGEConv(MessagePassing):\n",
    "    def __init__(self, in_channels, out_channels, aggr):\n",
    "        super(SAGEConv, self).__init__(aggr=aggr)\n",
    "\n",
    "        self.in_channels = in_channels\n",
    "        self.out_channels = out_channels\n",
    "\n",
    "        self.weight = Parameter(torch.Tensor(2 * in_channels, out_channels))\n",
    "\n",
    "        self.reset_parameters()\n",
    "\n",
    "    def reset_parameters(self):\n",
    "        uniform(self.weight.size(0), self.weight)\n",
    "\n",
    "    def forward(self, x, edge_index):\n",
    "        # x: Node features of shape [num_nodes, in_channels]\n",
    "        # edge_index: Graph connectivity [2, num_edges]\n",
    "\n",
    "        # Trigger message passing\n",
    "        return self.propagate(edge_index, x=x)\n",
    "\n",
    "    def message(self, x_j, edge_weight=None):\n",
    "        # x_j: Neighbor node features [num_edges, in_channels]\n",
    "        #if edge_weight is not None:\n",
    "        #    return edge_weight.view(-1, 1) * x_j\n",
    "        return x_j\n",
    "\n",
    "    def update(self, aggr_out, x):\n",
    "        # aggr_out: Aggregated neighbor features [num_nodes, in_channels]\n",
    "        # x: Original node features [num_nodes, in_channels]\n",
    "\n",
    "        # Concatenate self features and aggregated neighbor features\n",
    "        out = torch.cat([x, aggr_out], dim=1)  # [num_nodes, 2 * in_channels]\n",
    "        out = torch.matmul(out, self.weight)   # [num_nodes, out_channels]\n",
    "        return F.relu(out)\n"
   ]
  },
  {
   "cell_type": "markdown",
   "metadata": {
    "id": "UULqDwVbJ400"
   },
   "source": [
    "## Vertex Classification"
   ]
  },
  {
   "cell_type": "code",
   "execution_count": 7,
   "metadata": {
    "execution": {
     "iopub.execute_input": "2025-06-03T18:54:33.274527Z",
     "iopub.status.busy": "2025-06-03T18:54:33.273950Z",
     "iopub.status.idle": "2025-06-03T18:54:36.515632Z",
     "shell.execute_reply": "2025-06-03T18:54:36.514893Z",
     "shell.execute_reply.started": "2025-06-03T18:54:33.274507Z"
    },
    "id": "B5kBXxMDJ400",
    "trusted": true
   },
   "outputs": [
    {
     "name": "stderr",
     "output_type": "stream",
     "text": [
      "Downloading https://github.com/kimiyoung/planetoid/raw/master/data/ind.cora.x\n",
      "Downloading https://github.com/kimiyoung/planetoid/raw/master/data/ind.cora.tx\n",
      "Downloading https://github.com/kimiyoung/planetoid/raw/master/data/ind.cora.allx\n",
      "Downloading https://github.com/kimiyoung/planetoid/raw/master/data/ind.cora.y\n",
      "Downloading https://github.com/kimiyoung/planetoid/raw/master/data/ind.cora.ty\n",
      "Downloading https://github.com/kimiyoung/planetoid/raw/master/data/ind.cora.ally\n",
      "Downloading https://github.com/kimiyoung/planetoid/raw/master/data/ind.cora.graph\n",
      "Downloading https://github.com/kimiyoung/planetoid/raw/master/data/ind.cora.test.index\n",
      "Processing...\n",
      "Done!\n"
     ]
    }
   ],
   "source": [
    "import os\n",
    "import os.path as osp\n",
    "import torch\n",
    "import torch.nn.functional as F\n",
    "from torch_geometric.datasets import Planetoid\n",
    "import torch_geometric.transforms as T\n",
    "\n",
    "path = osp.join(os.getcwd(), 'data', 'Cora')\n",
    "dataset = Planetoid(path, 'Cora')"
   ]
  },
  {
   "cell_type": "code",
   "execution_count": 12,
   "metadata": {
    "execution": {
     "iopub.execute_input": "2025-06-03T18:55:26.522990Z",
     "iopub.status.busy": "2025-06-03T18:55:26.522285Z",
     "iopub.status.idle": "2025-06-03T18:55:26.533600Z",
     "shell.execute_reply": "2025-06-03T18:55:26.532882Z",
     "shell.execute_reply.started": "2025-06-03T18:55:26.522967Z"
    },
    "id": "YQCjdwbVJ400",
    "trusted": true
   },
   "outputs": [],
   "source": [
    "import time\n",
    "import math\n",
    "import torch\n",
    "import torch.nn.functional as F\n",
    "from torch import tensor\n",
    "from torch.optim import Adam\n",
    "device = torch.device('cuda' if torch.cuda.is_available() else 'cpu')\n",
    "\n",
    "\n",
    "# This function handles the training, evaluation, and timing of a GNN model over multiple runs. \n",
    "def run(dataset, model, runs, epochs, lr, weight_decay, early_stopping):\n",
    "    val_losses, accs, durations = [], [], []\n",
    "\n",
    "    for _ in range(runs):\n",
    "        data = dataset[0]\n",
    "        \n",
    "        data = data.to(device)\n",
    "        \n",
    "        model.to(device).reset_parameters()\n",
    "\n",
    "        # TODO: use Adam optimizer\n",
    "        optimizer = Adam(model.parameters(), lr=lr, weight_decay=weight_decay)\n",
    "\n",
    "        if torch.cuda.is_available():\n",
    "            torch.cuda.synchronize()\n",
    "\n",
    "        t_start = time.perf_counter()\n",
    "\n",
    "        best_val_loss = float('inf')\n",
    "        test_acc = 0\n",
    "        val_loss_history = []\n",
    "\n",
    "        for epoch in range(1, epochs + 1):\n",
    "            train(model, optimizer, data)\n",
    "            eval_info = evaluate(model, data)\n",
    "            eval_info['epoch'] = epoch\n",
    "\n",
    "            if eval_info['val_loss'] < best_val_loss:\n",
    "                best_val_loss = eval_info['val_loss']\n",
    "                test_acc = eval_info['test_acc']\n",
    "\n",
    "            val_loss_history.append(eval_info['val_loss'])\n",
    "\n",
    "            if early_stopping > 0 and epoch > epochs // 2:\n",
    "                tmp = tensor(val_loss_history[-(early_stopping + 1):-1])\n",
    "                if eval_info['val_loss'] > tmp.mean().item():\n",
    "                    break\n",
    "\n",
    "        if torch.cuda.is_available():\n",
    "            torch.cuda.synchronize()\n",
    "\n",
    "        t_end = time.perf_counter()\n",
    "\n",
    "        val_losses.append(best_val_loss)\n",
    "        accs.append(test_acc)\n",
    "        durations.append(t_end - t_start)\n",
    "\n",
    "    loss, acc, duration = tensor(val_losses), tensor(accs), tensor(durations)\n",
    "\n",
    "    print('Val Loss: {:.4f}, Test Accuracy: {:.3f} ± {:.3f}, Duration: {:.3f}'.\n",
    "          format(loss.mean().item(),\n",
    "                 acc.mean().item(),\n",
    "                 acc.std().item(),\n",
    "                 duration.mean().item()))\n",
    "\n",
    "\n",
    "def train(model, optimizer, data):\n",
    "    # Step 1: Set model to training mode.\n",
    "    model.train()\n",
    "\n",
    "    # Step 2: Zero the gradients of the optimizer.\n",
    "    optimizer.zero_grad()\n",
    "\n",
    "    # Step 3: Forward pass through the model to get the output logits.\n",
    "    out = model(data)\n",
    "\n",
    "    # Step 4: Compute the loss using negative log likelihood loss.\n",
    "    loss = F.nll_loss(out[data.train_mask], data.y[data.train_mask])\n",
    "\n",
    "    # Step 5: Backward pass to compute gradients.\n",
    "    loss.backward()\n",
    "\n",
    "    # Step 6: Update the weights using the optimizer.\n",
    "    optimizer.step()\n",
    "\n",
    "\n",
    "def evaluate(model, data):\n",
    "    model.eval()\n",
    "\n",
    "    with torch.no_grad():\n",
    "        logits = model(data)\n",
    "\n",
    "    outs = {}\n",
    "    for key in ['train', 'val', 'test']:\n",
    "        mask = data['{}_mask'.format(key)]\n",
    "        loss = F.nll_loss(logits[mask], data.y[mask]).item()\n",
    "        pred = logits[mask].max(1)[1]\n",
    "        acc = pred.eq(data.y[mask]).sum().item() / mask.sum().item()\n",
    "\n",
    "        outs['{}_loss'.format(key)] = loss\n",
    "        outs['{}_acc'.format(key)] = acc\n",
    "\n",
    "    return outs\n"
   ]
  },
  {
   "cell_type": "markdown",
   "metadata": {
    "id": "W7dpGcZAJ400"
   },
   "source": [
    "#### Building the model with GCN on vertex classification"
   ]
  },
  {
   "cell_type": "code",
   "execution_count": 13,
   "metadata": {
    "colab": {
     "base_uri": "https://localhost:8080/"
    },
    "execution": {
     "iopub.execute_input": "2025-06-03T18:55:31.652876Z",
     "iopub.status.busy": "2025-06-03T18:55:31.652085Z",
     "iopub.status.idle": "2025-06-03T18:55:40.175470Z",
     "shell.execute_reply": "2025-06-03T18:55:40.174656Z",
     "shell.execute_reply.started": "2025-06-03T18:55:31.652826Z"
    },
    "id": "BGEurnFAJ401",
    "outputId": "157dc6b4-65de-423e-9c70-3cd596aee9ca",
    "trusted": true
   },
   "outputs": [
    {
     "name": "stdout",
     "output_type": "stream",
     "text": [
      "Val Loss: 0.7247, Test Accuracy: 0.803 ± 0.007, Duration: 0.847\n"
     ]
    }
   ],
   "source": [
    "## TODO \n",
    "# set hyperparameters\n",
    "runs = 10\n",
    "epochs = 200\n",
    "lr = 0.01\n",
    "weight_decay = 5e-4\n",
    "early_stopping = 10 # Number of epochs to wait for improvement before stopping\n",
    "hidden = 16  # Number of hidden units\n",
    "dropout = 0.5 # Dropout probability\n",
    "\n",
    "\n",
    "class Net(torch.nn.Module):\n",
    "    def __init__(self, dataset):\n",
    "        super(Net, self).__init__()\n",
    "\n",
    "        ## TODO\n",
    "        self.conv1 = GCNConv(dataset.num_features, hidden)\n",
    "        self.conv2 = GCNConv(hidden, dataset.num_classes)\n",
    "\n",
    "    def reset_parameters(self):\n",
    "        self.conv1.reset_parameters()\n",
    "        self.conv2.reset_parameters()\n",
    "\n",
    "    def forward(self, data):\n",
    "\n",
    "        x, edge_index = data.x, data.edge_index\n",
    "        x = self.conv1(x, edge_index)\n",
    "        x = F.relu(x)\n",
    "        x = F.dropout(x, p=dropout, training=self.training) # Apply dropout using the hyperparameter\n",
    "        x = self.conv2(x, edge_index)\n",
    "        return F.log_softmax(x, dim=1)\n",
    "\n",
    "\n",
    "run(dataset, Net(dataset), runs, epochs, lr, weight_decay, early_stopping)"
   ]
  },
  {
   "cell_type": "markdown",
   "metadata": {
    "id": "9oeUsAT-J401"
   },
   "source": [
    "#### Building models with GraphSAGE on vertex classification"
   ]
  },
  {
   "cell_type": "code",
   "execution_count": 16,
   "metadata": {
    "colab": {
     "base_uri": "https://localhost:8080/"
    },
    "execution": {
     "iopub.execute_input": "2025-06-03T18:58:45.331311Z",
     "iopub.status.busy": "2025-06-03T18:58:45.331061Z",
     "iopub.status.idle": "2025-06-03T18:59:13.703501Z",
     "shell.execute_reply": "2025-06-03T18:59:13.702701Z",
     "shell.execute_reply.started": "2025-06-03T18:58:45.331296Z"
    },
    "id": "m2WrJrgLJ401",
    "outputId": "9eecb6de-5d78-4674-a7e0-eec5bfadc1b6",
    "trusted": true
   },
   "outputs": [
    {
     "name": "stdout",
     "output_type": "stream",
     "text": [
      "GraphSAGE-mean\n",
      "Val Loss: 0.7521, Test Accuracy: 0.794 ± 0.009, Duration: 0.958\n",
      "GraphSAGE-add\n",
      "Val Loss: 1.1156, Test Accuracy: 0.753 ± 0.028, Duration: 0.847\n",
      "GraphSAGE-max\n"
     ]
    },
    {
     "name": "stderr",
     "output_type": "stream",
     "text": [
      "/usr/local/lib/python3.11/dist-packages/torch_geometric/warnings.py:11: UserWarning: The usage of `scatter(reduce='max')` can be accelerated via the 'torch-scatter' package, but it was not found\n",
      "  warnings.warn(message)\n"
     ]
    },
    {
     "name": "stdout",
     "output_type": "stream",
     "text": [
      "Val Loss: 0.9671, Test Accuracy: 0.767 ± 0.018, Duration: 1.018\n"
     ]
    }
   ],
   "source": [
    "## define your own model\n",
    "\n",
    "class SAGENet(torch.nn.Module):\n",
    "    def __init__(self, dataset, aggr='mean'):\n",
    "        super(SAGENet, self).__init__()\n",
    "\n",
    "        ## TODO\n",
    "        self.conv1 = SAGEConv(dataset.num_features, hidden, aggr=aggr)\n",
    "        self.conv2 = SAGEConv(hidden, dataset.num_classes, aggr=aggr)\n",
    "\n",
    "        self.reset_parameters()\n",
    "\n",
    "\n",
    "    def reset_parameters(self):\n",
    "        self.conv1.reset_parameters()\n",
    "        self.conv2.reset_parameters()\n",
    "\n",
    "    def forward(self, data):\n",
    "\n",
    "        x, edge_index = data.x, data.edge_index\n",
    "\n",
    "        ## TODO\n",
    "        x = self.conv1(x, edge_index)\n",
    "        # Note: SAGEConv's update method already applies F.relu.\n",
    "        # The line below applies a second ReLU. If this is not intended, remove it.\n",
    "        x = F.relu(x)\n",
    "        x = F.dropout(x, p=dropout, training=self.training)\n",
    "        x = self.conv2(x, edge_index)\n",
    "        # The output of conv2 also has ReLU applied internally by SAGEConv.\n",
    "        return F.log_softmax(x, dim=1)\n",
    "\n",
    "aggrs = ['mean', 'add', 'max']\n",
    "\n",
    "for aggr in aggrs:\n",
    "    print('GraphSAGE-{}'.format(aggr))\n",
    "    run(dataset, SAGENet(dataset, aggr), runs, epochs, lr, weight_decay,\n",
    "        early_stopping)"
   ]
  }
 ],
 "metadata": {
  "accelerator": "GPU",
  "colab": {
   "gpuType": "T4",
   "provenance": []
  },
  "kaggle": {
   "accelerator": "nvidiaTeslaT4",
   "dataSources": [],
   "dockerImageVersionId": 31040,
   "isGpuEnabled": true,
   "isInternetEnabled": true,
   "language": "python",
   "sourceType": "notebook"
  },
  "kernelspec": {
   "display_name": "Python 3",
   "language": "python",
   "name": "python3"
  },
  "language_info": {
   "codemirror_mode": {
    "name": "ipython",
    "version": 3
   },
   "file_extension": ".py",
   "mimetype": "text/x-python",
   "name": "python",
   "nbconvert_exporter": "python",
   "pygments_lexer": "ipython3",
   "version": "3.11.11"
  }
 },
 "nbformat": 4,
 "nbformat_minor": 4
}
